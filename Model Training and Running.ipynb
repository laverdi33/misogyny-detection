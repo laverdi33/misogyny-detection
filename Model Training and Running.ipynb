{
 "cells": [
  {
   "cell_type": "code",
   "execution_count": 1,
   "id": "a400cd64",
   "metadata": {},
   "outputs": [
    {
     "name": "stderr",
     "output_type": "stream",
     "text": [
      "2021-08-01 03:54:49.214753: I tensorflow/stream_executor/platform/default/dso_loader.cc:48] Successfully opened dynamic library libcudart.so.11.0\n"
     ]
    }
   ],
   "source": [
    "# Import packages\n",
    "import numpy as np\n",
    "import pandas as pd\n",
    "import seaborn as sns\n",
    "import matplotlib.pyplot as plt\n",
    "sns.set()\n",
    "\n",
    "\n",
    "import tensorflow as tf\n",
    "import transformers\n",
    "from transformers import BertTokenizer, TFBertModel, TFBertForSequenceClassification\n",
    "from tensorflow.keras import backend as K\n",
    "\n",
    "import logging\n",
    "tf.get_logger().setLevel(logging.ERROR)"
   ]
  },
  {
   "cell_type": "code",
   "execution_count": 2,
   "id": "1a0c473b",
   "metadata": {},
   "outputs": [
    {
     "name": "stderr",
     "output_type": "stream",
     "text": [
      "2021-08-01 03:54:53.566679: I tensorflow/stream_executor/platform/default/dso_loader.cc:48] Successfully opened dynamic library libcuda.so.1\n",
      "2021-08-01 03:54:54.190644: I tensorflow/stream_executor/cuda/cuda_gpu_executor.cc:982] successful NUMA node read from SysFS had negative value (-1), but there must be at least one NUMA node, so returning NUMA node zero\n",
      "2021-08-01 03:54:54.191909: I tensorflow/core/common_runtime/gpu/gpu_device.cc:1716] Found device 0 with properties: \n",
      "pciBusID: 0000:00:04.0 name: Tesla T4 computeCapability: 7.5\n",
      "coreClock: 1.59GHz coreCount: 40 deviceMemorySize: 14.75GiB deviceMemoryBandwidth: 298.08GiB/s\n",
      "2021-08-01 03:54:54.191988: I tensorflow/stream_executor/platform/default/dso_loader.cc:48] Successfully opened dynamic library libcudart.so.11.0\n",
      "2021-08-01 03:54:54.219250: I tensorflow/stream_executor/platform/default/dso_loader.cc:48] Successfully opened dynamic library libcublas.so.11\n",
      "2021-08-01 03:54:54.235720: I tensorflow/stream_executor/platform/default/dso_loader.cc:48] Successfully opened dynamic library libcufft.so.10\n",
      "2021-08-01 03:54:54.243919: I tensorflow/stream_executor/platform/default/dso_loader.cc:48] Successfully opened dynamic library libcurand.so.10\n",
      "2021-08-01 03:54:54.271622: I tensorflow/stream_executor/platform/default/dso_loader.cc:48] Successfully opened dynamic library libcusolver.so.10\n",
      "2021-08-01 03:54:54.279041: I tensorflow/stream_executor/platform/default/dso_loader.cc:48] Successfully opened dynamic library libcusparse.so.11\n",
      "2021-08-01 03:54:54.279915: I tensorflow/stream_executor/platform/default/dso_loader.cc:48] Successfully opened dynamic library libcudnn.so.8\n",
      "2021-08-01 03:54:54.280069: I tensorflow/stream_executor/cuda/cuda_gpu_executor.cc:982] successful NUMA node read from SysFS had negative value (-1), but there must be at least one NUMA node, so returning NUMA node zero\n",
      "2021-08-01 03:54:54.280719: I tensorflow/stream_executor/cuda/cuda_gpu_executor.cc:982] successful NUMA node read from SysFS had negative value (-1), but there must be at least one NUMA node, so returning NUMA node zero\n",
      "2021-08-01 03:54:54.281260: I tensorflow/core/common_runtime/gpu/gpu_device.cc:1858] Adding visible gpu devices: 0\n"
     ]
    },
    {
     "data": {
      "text/plain": [
       "[PhysicalDevice(name='/physical_device:GPU:0', device_type='GPU')]"
      ]
     },
     "execution_count": 2,
     "metadata": {},
     "output_type": "execute_result"
    }
   ],
   "source": [
    "# Check GPU\n",
    "tf.config.list_physical_devices('GPU')"
   ]
  },
  {
   "cell_type": "markdown",
   "id": "40b4f6d8",
   "metadata": {},
   "source": [
    "# Use Twitter and Reddit data to train a Bert Model"
   ]
  },
  {
   "cell_type": "code",
   "execution_count": 3,
   "id": "777f88de",
   "metadata": {},
   "outputs": [
    {
     "name": "stderr",
     "output_type": "stream",
     "text": [
      "2021-08-01 03:54:57.769907: I tensorflow/core/platform/profile_utils/cpu_utils.cc:104] CPU Frequency: 2299995000 Hz\n",
      "2021-08-01 03:54:57.770054: I tensorflow/compiler/xla/service/service.cc:168] XLA service 0x559ed04b5d90 initialized for platform Host (this does not guarantee that XLA will be used). Devices:\n",
      "2021-08-01 03:54:57.770068: I tensorflow/compiler/xla/service/service.cc:176]   StreamExecutor device (0): Host, Default Version\n",
      "2021-08-01 03:54:57.880869: I tensorflow/stream_executor/cuda/cuda_gpu_executor.cc:982] successful NUMA node read from SysFS had negative value (-1), but there must be at least one NUMA node, so returning NUMA node zero\n",
      "2021-08-01 03:54:57.881515: I tensorflow/compiler/xla/service/service.cc:168] XLA service 0x559ed27ff600 initialized for platform CUDA (this does not guarantee that XLA will be used). Devices:\n",
      "2021-08-01 03:54:57.881530: I tensorflow/compiler/xla/service/service.cc:176]   StreamExecutor device (0): Tesla T4, Compute Capability 7.5\n",
      "2021-08-01 03:54:57.881765: I tensorflow/stream_executor/cuda/cuda_gpu_executor.cc:982] successful NUMA node read from SysFS had negative value (-1), but there must be at least one NUMA node, so returning NUMA node zero\n",
      "2021-08-01 03:54:57.882317: I tensorflow/core/common_runtime/gpu/gpu_device.cc:1716] Found device 0 with properties: \n",
      "pciBusID: 0000:00:04.0 name: Tesla T4 computeCapability: 7.5\n",
      "coreClock: 1.59GHz coreCount: 40 deviceMemorySize: 14.75GiB deviceMemoryBandwidth: 298.08GiB/s\n",
      "2021-08-01 03:54:57.882383: I tensorflow/stream_executor/platform/default/dso_loader.cc:48] Successfully opened dynamic library libcudart.so.11.0\n",
      "2021-08-01 03:54:57.882410: I tensorflow/stream_executor/platform/default/dso_loader.cc:48] Successfully opened dynamic library libcublas.so.11\n",
      "2021-08-01 03:54:57.882427: I tensorflow/stream_executor/platform/default/dso_loader.cc:48] Successfully opened dynamic library libcufft.so.10\n",
      "2021-08-01 03:54:57.882443: I tensorflow/stream_executor/platform/default/dso_loader.cc:48] Successfully opened dynamic library libcurand.so.10\n",
      "2021-08-01 03:54:57.882459: I tensorflow/stream_executor/platform/default/dso_loader.cc:48] Successfully opened dynamic library libcusolver.so.10\n",
      "2021-08-01 03:54:57.882475: I tensorflow/stream_executor/platform/default/dso_loader.cc:48] Successfully opened dynamic library libcusparse.so.11\n",
      "2021-08-01 03:54:57.882491: I tensorflow/stream_executor/platform/default/dso_loader.cc:48] Successfully opened dynamic library libcudnn.so.8\n",
      "2021-08-01 03:54:57.882586: I tensorflow/stream_executor/cuda/cuda_gpu_executor.cc:982] successful NUMA node read from SysFS had negative value (-1), but there must be at least one NUMA node, so returning NUMA node zero\n",
      "2021-08-01 03:54:57.883163: I tensorflow/stream_executor/cuda/cuda_gpu_executor.cc:982] successful NUMA node read from SysFS had negative value (-1), but there must be at least one NUMA node, so returning NUMA node zero\n",
      "2021-08-01 03:54:57.883709: I tensorflow/core/common_runtime/gpu/gpu_device.cc:1858] Adding visible gpu devices: 0\n",
      "2021-08-01 03:54:57.884445: I tensorflow/stream_executor/platform/default/dso_loader.cc:48] Successfully opened dynamic library libcudart.so.11.0\n",
      "2021-08-01 03:55:18.925100: I tensorflow/core/common_runtime/gpu/gpu_device.cc:1257] Device interconnect StreamExecutor with strength 1 edge matrix:\n",
      "2021-08-01 03:55:18.925168: I tensorflow/core/common_runtime/gpu/gpu_device.cc:1263]      0 \n",
      "2021-08-01 03:55:18.925177: I tensorflow/core/common_runtime/gpu/gpu_device.cc:1276] 0:   N \n",
      "2021-08-01 03:55:18.937665: I tensorflow/stream_executor/cuda/cuda_gpu_executor.cc:982] successful NUMA node read from SysFS had negative value (-1), but there must be at least one NUMA node, so returning NUMA node zero\n",
      "2021-08-01 03:55:18.938449: I tensorflow/stream_executor/cuda/cuda_gpu_executor.cc:982] successful NUMA node read from SysFS had negative value (-1), but there must be at least one NUMA node, so returning NUMA node zero\n",
      "2021-08-01 03:55:18.939084: I tensorflow/core/common_runtime/gpu/gpu_device.cc:1402] Created TensorFlow device (/job:localhost/replica:0/task:0/device:GPU:0 with 13996 MB memory) -> physical GPU (device: 0, name: Tesla T4, pci bus id: 0000:00:04.0, compute capability: 7.5)\n",
      "2021-08-01 03:55:19.312069: I tensorflow/stream_executor/platform/default/dso_loader.cc:48] Successfully opened dynamic library libcublas.so.11\n",
      "Some layers from the model checkpoint at bert-base-cased were not used when initializing TFBertModel: ['nsp___cls', 'mlm___cls']\n",
      "- This IS expected if you are initializing TFBertModel from the checkpoint of a model trained on another task or with another architecture (e.g. initializing a BertForSequenceClassification model from a BertForPreTraining model).\n",
      "- This IS NOT expected if you are initializing TFBertModel from the checkpoint of a model that you expect to be exactly identical (initializing a BertForSequenceClassification model from a BertForSequenceClassification model).\n",
      "All the layers of TFBertModel were initialized from the model checkpoint at bert-base-cased.\n",
      "If your task is similar to the task the model of the checkpoint was trained on, you can already use TFBertModel for predictions without further training.\n"
     ]
    }
   ],
   "source": [
    "tokenizer = BertTokenizer.from_pretrained('bert-base-cased')\n",
    "bert_model = TFBertModel.from_pretrained('bert-base-cased')"
   ]
  },
  {
   "cell_type": "code",
   "execution_count": 4,
   "id": "325548ce",
   "metadata": {},
   "outputs": [],
   "source": [
    "def create_classification_model(max_length,\n",
    "                                hidden_size = 256, \n",
    "                                train_layers = -1,\n",
    "                                classes = 1,\n",
    "                                sequence = True,\n",
    "                                optimizer=tf.keras.optimizers.Adam()):\n",
    "    \"\"\"\n",
    "    We will use this first to classify Misogynous/not, and then create a separate model to classify they type\n",
    "    \"\"\"\n",
    "\n",
    "    input_ids = tf.keras.layers.Input(shape=(max_length,), dtype=tf.int32, name='input_ids_layer')\n",
    "    token_type_ids = tf.keras.layers.Input(shape=(max_length,), dtype=tf.int32, name='token_type_ids_layer')\n",
    "    attention_mask = tf.keras.layers.Input(shape=(max_length,), dtype=tf.int32, name='attention_mask_layer')\n",
    "\n",
    "    bert_inputs = {'input_ids': input_ids,\n",
    "                   'token_type_ids': token_type_ids,\n",
    "                   'attention_mask': attention_mask}\n",
    "\n",
    "\n",
    "    #restrict training to the train_layers outer transformer layers\n",
    "    if not train_layers == -1:\n",
    "\n",
    "            retrain_layers = []\n",
    "\n",
    "            for retrain_layer_number in range(train_layers):\n",
    "\n",
    "                layer_code = '_' + str(11 - retrain_layer_number)\n",
    "                retrain_layers.append(layer_code)\n",
    "\n",
    "            for w in bert_model.weights:\n",
    "                if not any([x in w.name for x in retrain_layers]):\n",
    "                    w._trainable = False\n",
    "\n",
    "\n",
    "    bert_out = bert_model(bert_inputs)[0]\n",
    "\n",
    "    dense_inputs = tf.keras.layers.Reshape((768*max_length, ))(bert_out)\n",
    "    dense_inputs = tf.keras.layers.LayerNormalization()(dense_inputs)\n",
    "\n",
    "    hidden = tf.keras.layers.Dense(hidden_size, name='hidden_layer')(dense_inputs)    \n",
    "    hidden = tf.keras.layers.Dropout(rate=0.1)(hidden)\n",
    "\n",
    "    classification = tf.keras.layers.Dense(1, activation='sigmoid',name='classification_layer')(hidden)\n",
    "\n",
    "    classification_model = tf.keras.Model(inputs=[input_ids, token_type_ids, attention_mask], \n",
    "                                          outputs=[classification])\n",
    "\n",
    "    classification_model.compile(optimizer=optimizer,\n",
    "                                 loss=tf.keras.losses.BinaryCrossentropy(from_logits=False),\n",
    "                                 metrics='accuracy')\n",
    "\n",
    "    return classification_model"
   ]
  },
  {
   "cell_type": "code",
   "execution_count": 5,
   "id": "a52b0df3",
   "metadata": {},
   "outputs": [],
   "source": [
    "reddit_data = pd.read_pickle(\"reddit_labels.pkl\")\n",
    "twitter_data = pd.read_pickle(\"twitter_labels.pkl\")"
   ]
  },
  {
   "cell_type": "code",
   "execution_count": 6,
   "id": "bafd993d",
   "metadata": {},
   "outputs": [],
   "source": [
    "model_training = reddit_data.append(twitter_data).sample(frac=1).reset_index(drop=True)\n",
    "model_training['Misogyny'] = [0 if i == 'Non' else 1 for i in model_training.new_class]\n",
    "#model_training['Misogyny_class'] = [1 if i == 'Derogation-Discredit' else\n",
    "#                                    2 if i == 'Derailing-Attacks' else \n",
    "#                                    3 if i == 'Dominance' else\n",
    "#                                    4 if i == 'Threatening-Harassment' else \n",
    "#                                    5 if i == 'Objectification-Stereotyping' \n",
    "#                                    else 0 for i in model_training.new_class] \n",
    "model_training['Misogyny_class'] = [1 if i == 'Derogation' else\n",
    "                                    2 if i == 'Treatment' else \n",
    "                                    0 for i in model_training.new_class] "
   ]
  },
  {
   "cell_type": "code",
   "execution_count": 7,
   "id": "5d4185b2",
   "metadata": {},
   "outputs": [],
   "source": [
    "training_data = model_training[model_training.split == 'train'].drop(columns='split').reset_index(drop=True)\n",
    "testing_data = model_training[model_training.split == 'test'].drop(columns='split').reset_index(drop=True)"
   ]
  },
  {
   "cell_type": "code",
   "execution_count": 8,
   "id": "e1089a37",
   "metadata": {},
   "outputs": [
    {
     "data": {
      "text/plain": [
       "0    6839\n",
       "1    2095\n",
       "Name: Misogyny, dtype: int64"
      ]
     },
     "execution_count": 8,
     "metadata": {},
     "output_type": "execute_result"
    }
   ],
   "source": [
    "training_data.Misogyny.value_counts()"
   ]
  },
  {
   "cell_type": "code",
   "execution_count": 37,
   "id": "cdac6c90",
   "metadata": {},
   "outputs": [],
   "source": [
    "# Experimentation with dropping data to have even class representation:\n",
    "#non_misgyny = training_data[training_data.Misogyny == 0].reset_index(drop=True)[0:2095]\n",
    "#training_data = training_data[training_data.Misogyny == 1].append(non_misgyny).sample(frac=1).reset_index(drop=True)"
   ]
  },
  {
   "cell_type": "markdown",
   "id": "9d811f79",
   "metadata": {},
   "source": [
    "# First model, for misogyny or not:"
   ]
  },
  {
   "cell_type": "code",
   "execution_count": 8,
   "id": "ec8af0e6",
   "metadata": {},
   "outputs": [],
   "source": [
    "max_length = 75\n",
    "\n",
    "train_data = np.array(training_data.body)\n",
    "test_data = np.array(testing_data.body)\n",
    "\n",
    "x_train = tokenizer([x for x in train_data], \n",
    "                    max_length=max_length,\n",
    "                    truncation=True,\n",
    "                    padding='max_length', \n",
    "                    return_tensors='tf')\n",
    "\n",
    "x_test = tokenizer([x for x in test_data],\n",
    "                   max_length=max_length,\n",
    "                   truncation=True,\n",
    "                   padding='max_length', \n",
    "                   return_tensors='tf')"
   ]
  },
  {
   "cell_type": "code",
   "execution_count": 9,
   "id": "70499d93",
   "metadata": {},
   "outputs": [],
   "source": [
    "y_train = np.array(training_data.Misogyny)\n",
    "y_test = np.array(testing_data.Misogyny)"
   ]
  },
  {
   "cell_type": "code",
   "execution_count": 11,
   "id": "74f4c3ab",
   "metadata": {},
   "outputs": [
    {
     "name": "stdout",
     "output_type": "stream",
     "text": [
      "Epoch 1/3\n",
      "1117/1117 [==============================] - 89s 80ms/step - loss: 0.3211 - accuracy: 0.8704 - val_loss: 0.6371 - val_accuracy: 0.8023\n",
      "Epoch 2/3\n",
      "1117/1117 [==============================] - 86s 77ms/step - loss: 0.1525 - accuracy: 0.9407 - val_loss: 0.6419 - val_accuracy: 0.7777\n",
      "Epoch 3/3\n",
      "1117/1117 [==============================] - 86s 77ms/step - loss: 0.0898 - accuracy: 0.9655 - val_loss: 0.6922 - val_accuracy: 0.7996\n"
     ]
    },
    {
     "data": {
      "text/plain": [
       "<tensorflow.python.keras.callbacks.History at 0x7fb31c436110>"
      ]
     },
     "execution_count": 11,
     "metadata": {},
     "output_type": "execute_result"
    }
   ],
   "source": [
    "epochs = 3\n",
    "\n",
    "misogyny_model_2 = create_classification_model(max_length, train_layers = 2,\n",
    "                                             optimizer=tf.keras.optimizers.Adam(0.00001))     \n",
    "misogyny_model_2.fit([x_train.input_ids, x_train.token_type_ids, x_train.attention_mask],\n",
    "                    y_train,\n",
    "                    validation_data=([x_test.input_ids, x_test.token_type_ids, x_test.attention_mask],\n",
    "                    y_test),\n",
    "                    epochs=epochs,\n",
    "                    batch_size=8)"
   ]
  },
  {
   "cell_type": "code",
   "execution_count": 52,
   "id": "94cb9642",
   "metadata": {},
   "outputs": [],
   "source": [
    "test_pred = misogyny_model_2.predict([x_test.input_ids, x_test.token_type_ids, x_test.attention_mask], batch_size=8)\n",
    "pred_0or1 = np.array([1 if i > 0.5 else 0 for i in test_pred])"
   ]
  },
  {
   "cell_type": "code",
   "execution_count": 17,
   "id": "0fa03d91",
   "metadata": {},
   "outputs": [
    {
     "name": "stdout",
     "output_type": "stream",
     "text": [
      "predict on top: 0, 1:\n"
     ]
    },
    {
     "data": {
      "text/plain": [
       "<tf.Tensor: shape=(2, 2), dtype=int32, numpy=\n",
       "array([[1466,  236],\n",
       "       [ 211,  318]], dtype=int32)>"
      ]
     },
     "execution_count": 17,
     "metadata": {},
     "output_type": "execute_result"
    }
   ],
   "source": [
    "print('predict on top: 0, 1:')\n",
    "tf.math.confusion_matrix(\n",
    "    y_test,\n",
    "    pred_0or1,\n",
    "    num_classes=2)"
   ]
  },
  {
   "cell_type": "markdown",
   "id": "f3151580",
   "metadata": {},
   "source": [
    "# Now we need another model to determine the class of misogyny:"
   ]
  },
  {
   "cell_type": "code",
   "execution_count": 9,
   "id": "ef05ddf4",
   "metadata": {},
   "outputs": [],
   "source": [
    "max_length = 75\n",
    "\n",
    "train_data = np.array(training_data[training_data.Misogyny == 1].body)\n",
    "test_data = np.array(testing_data[testing_data.Misogyny == 1].body)\n",
    "\n",
    "x_train = tokenizer([x for x in train_data], \n",
    "                    max_length=max_length,\n",
    "                    truncation=True,\n",
    "                    padding='max_length', \n",
    "                    return_tensors='tf')\n",
    "\n",
    "x_test = tokenizer([x for x in test_data],\n",
    "                   max_length=max_length,\n",
    "                   truncation=True,\n",
    "                   padding='max_length', \n",
    "                   return_tensors='tf')"
   ]
  },
  {
   "cell_type": "code",
   "execution_count": 10,
   "id": "9f0afc25",
   "metadata": {},
   "outputs": [],
   "source": [
    "y_train = np.array(training_data[training_data.Misogyny == 1].Misogyny_class) - 1\n",
    "y_test = np.array(testing_data[testing_data.Misogyny == 1].Misogyny_class) - 1"
   ]
  },
  {
   "cell_type": "code",
   "execution_count": 14,
   "id": "734cd871",
   "metadata": {},
   "outputs": [
    {
     "name": "stdout",
     "output_type": "stream",
     "text": [
      "Epoch 1/3\n",
      "262/262 [==============================] - 23s 89ms/step - loss: 0.5064 - accuracy: 0.7819 - val_loss: 1.0078 - val_accuracy: 0.6805\n",
      "Epoch 2/3\n",
      "262/262 [==============================] - 21s 79ms/step - loss: 0.2485 - accuracy: 0.9084 - val_loss: 1.0508 - val_accuracy: 0.6711\n",
      "Epoch 3/3\n",
      "262/262 [==============================] - 20s 78ms/step - loss: 0.1232 - accuracy: 0.9589 - val_loss: 1.0270 - val_accuracy: 0.7013\n"
     ]
    },
    {
     "data": {
      "text/plain": [
       "<tensorflow.python.keras.callbacks.History at 0x7f783d925d10>"
      ]
     },
     "execution_count": 14,
     "metadata": {},
     "output_type": "execute_result"
    }
   ],
   "source": [
    "epochs = 3\n",
    "\n",
    "misogyny_class_model = create_classification_model(max_length, train_layers = 1,\n",
    "                                             optimizer=tf.keras.optimizers.Adam(0.00001))    \n",
    "misogyny_class_model.fit([x_train.input_ids, x_train.token_type_ids, x_train.attention_mask],\n",
    "                          y_train,\n",
    "                          validation_data=([x_test.input_ids, x_test.token_type_ids, x_test.attention_mask],\n",
    "                          y_test),\n",
    "                          epochs=epochs,\n",
    "                          batch_size=8)"
   ]
  },
  {
   "cell_type": "code",
   "execution_count": 17,
   "id": "5ef499b6",
   "metadata": {},
   "outputs": [],
   "source": [
    "test_pred = misogyny_class_model.predict([x_test.input_ids, x_test.token_type_ids, x_test.attention_mask], batch_size=8)\n",
    "pred_class = np.array([1 if i > 0.5 else 0 for i in test_pred])"
   ]
  },
  {
   "cell_type": "code",
   "execution_count": 18,
   "id": "d6f76513",
   "metadata": {},
   "outputs": [
    {
     "data": {
      "text/plain": [
       "<tf.Tensor: shape=(2, 2), dtype=int32, numpy=\n",
       "array([[298,  49],\n",
       "       [109,  73]], dtype=int32)>"
      ]
     },
     "execution_count": 18,
     "metadata": {},
     "output_type": "execute_result"
    }
   ],
   "source": [
    "conf_mat = tf.math.confusion_matrix(\n",
    "    y_test,\n",
    "    pred_class,\n",
    "    num_classes=2)\n",
    "conf_mat"
   ]
  },
  {
   "cell_type": "markdown",
   "id": "4caf10b8",
   "metadata": {},
   "source": [
    "# Now apply models to song data:"
   ]
  },
  {
   "cell_type": "code",
   "execution_count": 32,
   "id": "889221a0",
   "metadata": {},
   "outputs": [],
   "source": [
    "#song_data_all = pd.read_pickle(\"song_data_all.pkl\")\n",
    "song_data_2000s = pd.read_pickle(\"song_data_2000s.pkl\")"
   ]
  },
  {
   "cell_type": "code",
   "execution_count": 33,
   "id": "81d2a9c8",
   "metadata": {},
   "outputs": [],
   "source": [
    "broken_up_lyrics = song_data_2000s[song_data_2000s.Artist == 'clear df']\n",
    "for i in range(len(song_data_2000s)):\n",
    "    lyrics = song_data_2000s.Lyrics[i].split()\n",
    "    row = song_data_2000s.loc[i].copy()\n",
    "    start_point = 0\n",
    "    while start_point < len(lyrics):\n",
    "        row['Lyrics'] =  \" \".join(lyrics[start_point:start_point+50])\n",
    "        broken_up_lyrics = broken_up_lyrics.append(row)\n",
    "        start_point += 40"
   ]
  },
  {
   "cell_type": "code",
   "execution_count": 34,
   "id": "7a9679d2",
   "metadata": {},
   "outputs": [],
   "source": [
    "max_length = 75\n",
    "\n",
    "song_lyrics = np.array(broken_up_lyrics.Lyrics)\n",
    "\n",
    "tokenize_lyrics = tokenizer([x for x in song_lyrics], \n",
    "                            max_length=max_length,\n",
    "                            truncation=True,\n",
    "                            padding='max_length', \n",
    "                            return_tensors='tf')"
   ]
  },
  {
   "cell_type": "code",
   "execution_count": 35,
   "id": "615fddeb",
   "metadata": {},
   "outputs": [],
   "source": [
    "song_lyric_pred = misogyny_model_2.predict([tokenize_lyrics.input_ids, tokenize_lyrics.token_type_ids, tokenize_lyrics.attention_mask], batch_size=8)\n",
    "misogyny_0or1 = np.array([1 if i > 0.5 else 0 for i in song_lyric_pred])"
   ]
  },
  {
   "cell_type": "code",
   "execution_count": 180,
   "id": "066c258d",
   "metadata": {},
   "outputs": [
    {
     "data": {
      "text/html": [
       "<div>\n",
       "<style scoped>\n",
       "    .dataframe tbody tr th:only-of-type {\n",
       "        vertical-align: middle;\n",
       "    }\n",
       "\n",
       "    .dataframe tbody tr th {\n",
       "        vertical-align: top;\n",
       "    }\n",
       "\n",
       "    .dataframe thead th {\n",
       "        text-align: right;\n",
       "    }\n",
       "</style>\n",
       "<table border=\"1\" class=\"dataframe\">\n",
       "  <thead>\n",
       "    <tr style=\"text-align: right;\">\n",
       "      <th></th>\n",
       "      <th>Artist</th>\n",
       "      <th>Song Name</th>\n",
       "      <th>Year</th>\n",
       "      <th>Misogynistic_Subsets</th>\n",
       "      <th>Misogyny</th>\n",
       "    </tr>\n",
       "  </thead>\n",
       "  <tbody>\n",
       "    <tr>\n",
       "      <th>449</th>\n",
       "      <td>Da Brat</td>\n",
       "      <td>What'Chu Like</td>\n",
       "      <td>2000</td>\n",
       "      <td>5</td>\n",
       "      <td>1</td>\n",
       "    </tr>\n",
       "    <tr>\n",
       "      <th>1585</th>\n",
       "      <td>Ricky Martin</td>\n",
       "      <td>She Bangs</td>\n",
       "      <td>2000</td>\n",
       "      <td>8</td>\n",
       "      <td>1</td>\n",
       "    </tr>\n",
       "    <tr>\n",
       "      <th>813</th>\n",
       "      <td>JAY</td>\n",
       "      <td>Anything</td>\n",
       "      <td>2000</td>\n",
       "      <td>4</td>\n",
       "      <td>1</td>\n",
       "    </tr>\n",
       "    <tr>\n",
       "      <th>629</th>\n",
       "      <td>Evan And Jaron</td>\n",
       "      <td>Crazy For This Girl</td>\n",
       "      <td>2000</td>\n",
       "      <td>3</td>\n",
       "      <td>1</td>\n",
       "    </tr>\n",
       "    <tr>\n",
       "      <th>817</th>\n",
       "      <td>JAY</td>\n",
       "      <td>I Just Wanna Love U</td>\n",
       "      <td>2000</td>\n",
       "      <td>5</td>\n",
       "      <td>1</td>\n",
       "    </tr>\n",
       "    <tr>\n",
       "      <th>...</th>\n",
       "      <td>...</td>\n",
       "      <td>...</td>\n",
       "      <td>...</td>\n",
       "      <td>...</td>\n",
       "      <td>...</td>\n",
       "    </tr>\n",
       "    <tr>\n",
       "      <th>437</th>\n",
       "      <td>DJ Khaled</td>\n",
       "      <td>Jealous</td>\n",
       "      <td>2019</td>\n",
       "      <td>5</td>\n",
       "      <td>1</td>\n",
       "    </tr>\n",
       "    <tr>\n",
       "      <th>1383</th>\n",
       "      <td>Mustard, Migos</td>\n",
       "      <td>Pure Water</td>\n",
       "      <td>2019</td>\n",
       "      <td>10</td>\n",
       "      <td>1</td>\n",
       "    </tr>\n",
       "    <tr>\n",
       "      <th>1162</th>\n",
       "      <td>Lil Nas X, Cardi B</td>\n",
       "      <td>Rodeo</td>\n",
       "      <td>2019</td>\n",
       "      <td>3</td>\n",
       "      <td>1</td>\n",
       "    </tr>\n",
       "    <tr>\n",
       "      <th>1169</th>\n",
       "      <td>Lil Uzi Vert</td>\n",
       "      <td>Sanguine Paradise</td>\n",
       "      <td>2019</td>\n",
       "      <td>7</td>\n",
       "      <td>1</td>\n",
       "    </tr>\n",
       "    <tr>\n",
       "      <th>1219</th>\n",
       "      <td>Logic</td>\n",
       "      <td>Keanu Reeves</td>\n",
       "      <td>2019</td>\n",
       "      <td>5</td>\n",
       "      <td>1</td>\n",
       "    </tr>\n",
       "  </tbody>\n",
       "</table>\n",
       "<p>587 rows × 5 columns</p>\n",
       "</div>"
      ],
      "text/plain": [
       "                  Artist            Song Name  Year  Misogynistic_Subsets  \\\n",
       "449              Da Brat        What'Chu Like  2000                     5   \n",
       "1585        Ricky Martin            She Bangs  2000                     8   \n",
       "813                  JAY             Anything  2000                     4   \n",
       "629       Evan And Jaron  Crazy For This Girl  2000                     3   \n",
       "817                  JAY  I Just Wanna Love U  2000                     5   \n",
       "...                  ...                  ...   ...                   ...   \n",
       "437            DJ Khaled              Jealous  2019                     5   \n",
       "1383      Mustard, Migos           Pure Water  2019                    10   \n",
       "1162  Lil Nas X, Cardi B                Rodeo  2019                     3   \n",
       "1169        Lil Uzi Vert    Sanguine Paradise  2019                     7   \n",
       "1219               Logic         Keanu Reeves  2019                     5   \n",
       "\n",
       "      Misogyny  \n",
       "449          1  \n",
       "1585         1  \n",
       "813          1  \n",
       "629          1  \n",
       "817          1  \n",
       "...        ...  \n",
       "437          1  \n",
       "1383         1  \n",
       "1162         1  \n",
       "1169         1  \n",
       "1219         1  \n",
       "\n",
       "[587 rows x 5 columns]"
      ]
     },
     "execution_count": 180,
     "metadata": {},
     "output_type": "execute_result"
    }
   ],
   "source": [
    "broken_up_lyrics['Misogynistic_Subsets'] = misogyny_0or1\n",
    "misogyny_results = broken_up_lyrics.groupby(['Artist', 'Song Name', 'Year']).sum().reset_index()\n",
    "misogyny_results['Misogyny'] = [1 if i > 2 else 0 for i in misogyny_results['Misogynistic_Subsets']]\n",
    "misogyny_results[misogyny_results.Misogyny == 1].sort_values('Year')"
   ]
  },
  {
   "cell_type": "code",
   "execution_count": 195,
   "id": "ea8b14c0",
   "metadata": {},
   "outputs": [
    {
     "data": {
      "text/plain": [
       "Text(0.5, 1.0, \"Percent of Year's Top 100 Songs Deemed to Contain Misogyny from 2000-2019\")"
      ]
     },
     "execution_count": 195,
     "metadata": {},
     "output_type": "execute_result"
    },
    {
     "data": {
      "image/png": "[encoded data removed]",
      "text/plain": [
       "<Figure size 720x432 with 1 Axes>"
      ]
     },
     "metadata": {},
     "output_type": "display_data"
    }
   ],
   "source": [
    "fig_size = plt.rcParams[\"figure.figsize\"]\n",
    "fig_size[0] = 10\n",
    "fig_size[1] = 6\n",
    "plt.rcParams[\"figure.figsize\"] = fig_size\n",
    "graph_data = misogyny_results[['Year', 'Misogyny']].groupby(['Year']).sum()\n",
    "g = sns.lineplot(data=graph_data, x=\"Year\", y=\"Misogyny\", linewidth = 2)\n",
    "g.set_xticks(list(range(2000,2021, 5))) \n",
    "g.set_xticklabels(list(range(2000,2021, 5)))\n",
    "plt.ylabel(\"Percent with Misogyny\")\n",
    "plt.title(\"Percent of Year's Top 100 Songs Deemed to Contain Misogyny from 2000-2019\")"
   ]
  },
  {
   "cell_type": "code",
   "execution_count": 62,
   "id": "ca6ba1c1",
   "metadata": {},
   "outputs": [],
   "source": [
    "max_length = 75\n",
    "\n",
    "misogynous_lyrics = np.array(broken_up_lyrics[broken_up_lyrics.Misogynistic_Subsets == 1].Lyrics)\n",
    "\n",
    "tokenize_lyrics = tokenizer([x for x in misogynous_lyrics], \n",
    "                            max_length=max_length,\n",
    "                            truncation=True,\n",
    "                            padding='max_length', \n",
    "                            return_tensors='tf')"
   ]
  },
  {
   "cell_type": "code",
   "execution_count": 63,
   "id": "6f857ef2",
   "metadata": {},
   "outputs": [],
   "source": [
    "misogyny_class_pred = misogyny_class_model.predict([tokenize_lyrics.input_ids, tokenize_lyrics.token_type_ids, tokenize_lyrics.attention_mask], batch_size=8)\n",
    "misogyny_pred_class = np.array([1 if i > 0.5 else 0 for i in misogyny_class_pred])"
   ]
  },
  {
   "cell_type": "code",
   "execution_count": 65,
   "id": "317636d3",
   "metadata": {},
   "outputs": [
    {
     "data": {
      "text/plain": [
       "0.8251677170156536"
      ]
     },
     "execution_count": 65,
     "metadata": {},
     "output_type": "execute_result"
    }
   ],
   "source": [
    "misogyny_pred_class.mean()"
   ]
  }
 ],
 "metadata": {
  "kernelspec": {
   "display_name": "Python 3",
   "language": "python",
   "name": "python3"
  },
  "language_info": {
   "codemirror_mode": {
    "name": "ipython",
    "version": 3
   },
   "file_extension": ".py",
   "mimetype": "text/x-python",
   "name": "python",
   "nbconvert_exporter": "python",
   "pygments_lexer": "ipython3",
   "version": "3.7.10"
  }
 },
 "nbformat": 4,
 "nbformat_minor": 5
}
